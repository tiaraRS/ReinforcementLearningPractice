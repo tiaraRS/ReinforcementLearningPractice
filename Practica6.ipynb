{
 "cells": [
  {
   "cell_type": "markdown",
   "id": "852b5650",
   "metadata": {},
   "source": [
    "# Q-Learning - Saving Sirius Black"
   ]
  },
  {
   "cell_type": "markdown",
   "id": "666c0ebf",
   "metadata": {},
   "source": [
    "1. ¿Cómo planeas penalizar y premiar al agente?\n",
    "    START, FLOOR -> 1 \n",
    "    OUT OF RANGE -> -10 >> END OF EPISODE\n",
    "    GOAL -> 126 >> END OF EPISODE\n",
    "2. Encuentra el optimal policy y grafica el average reward over time.\n",
    "\n",
    "3. ¿Qué sucede si no hay vientos? ¿Cómo luce el optimal policy y el average reward over time? Comenta tus resultados.\n"
   ]
  },
  {
   "cell_type": "markdown",
   "id": "efa1228e",
   "metadata": {},
   "source": [
    "### PARAMETROS\n",
    "learning_rate, discount_rate \n",
    "rewards? -> maneras de penalizar/beneficiar\n",
    "max_exploration_rate = 1\n",
    "min_exploration_rate = 0.01\n",
    "exploration_decay_rate = 0.005"
   ]
  },
  {
   "cell_type": "markdown",
   "id": "28795e2d",
   "metadata": {},
   "source": [
    "#### Libraries used"
   ]
  },
  {
   "cell_type": "code",
   "execution_count": 264,
   "id": "3ade2414",
   "metadata": {},
   "outputs": [],
   "source": [
    "import numpy as np\n",
    "import gym\n",
    "import random\n",
    "import time\n",
    "from IPython.display import clear_output\n",
    "from matplotlib import pyplot as plot\n",
    "import numpy as np"
   ]
  },
  {
   "cell_type": "markdown",
   "id": "a7f4d347",
   "metadata": {},
   "source": [
    "#### Set up GAME ENVIRONMENT:\n",
    "    1. STATE CLASS:\n",
    "    State class represents a state in the game. A state represents a position in the game board, consisting of x and y:"
   ]
  },
  {
   "cell_type": "code",
   "execution_count": 265,
   "id": "8f85361f",
   "metadata": {},
   "outputs": [],
   "source": [
    "class State:\n",
    "    def __init__(self, x, y):\n",
    "        self.x = x\n",
    "        self.y = y"
   ]
  },
  {
   "cell_type": "markdown",
   "id": "8a51aea7",
   "metadata": {},
   "source": [
    "    2. ACTION SPACE:\n",
    "    There are 4 possible actions for Harry: move up, move down, move left, and move right. We define these actions as lambda functions that receive a State and return a new updated State by performing the corresponding action:\n",
    "    The action space size is 4 as there are 4 possilbe actions, and the state space size is 63, since there are 9 columns and 7 rows in the game board matrix."
   ]
  },
  {
   "cell_type": "code",
   "execution_count": 266,
   "id": "a493e502",
   "metadata": {},
   "outputs": [
    {
     "name": "stdout",
     "output_type": "stream",
     "text": [
      "4 63\n"
     ]
    }
   ],
   "source": [
    "up = lambda state: State(state.x, state.y-1)\n",
    "down = lambda state: State(state.x, state.y+1)\n",
    "left = lambda state: State(state.x - 1, state.y)\n",
    "right = lambda state: State(state.x + 1, state.y)\n",
    "action_space_size = 4\n",
    "state_space_size = 63\n",
    "action_space = [up, down, left, right]\n",
    "\n",
    "print(action_space_size,state_space_size)"
   ]
  },
  {
   "cell_type": "markdown",
   "id": "52a4e6b8",
   "metadata": {},
   "source": [
    "    Testing actions:"
   ]
  },
  {
   "cell_type": "code",
   "execution_count": 267,
   "id": "ec425677",
   "metadata": {},
   "outputs": [
    {
     "name": "stdout",
     "output_type": "stream",
     "text": [
      "<__main__.State object at 0x0000020DCFFF6100> <__main__.State object at 0x0000020DE602A5E0> <__main__.State object at 0x0000020DE72D6760> <__main__.State object at 0x0000020DE5F202E0>\n"
     ]
    }
   ],
   "source": [
    "a = State(1,1)\n",
    "print(up(State(1,2)), down(a), left(a), right(a))"
   ]
  },
  {
   "cell_type": "markdown",
   "id": "42e5ac76",
   "metadata": {},
   "source": [
    "##### Function get_sample:\n",
    "    This function returns a random action from the action_space."
   ]
  },
  {
   "cell_type": "code",
   "execution_count": 268,
   "id": "b1a07059",
   "metadata": {},
   "outputs": [],
   "source": [
    "def get_sample():\n",
    "    random_pos = np.random.randint(0,4)\n",
    "    return action_space[random_pos], random_pos"
   ]
  },
  {
   "cell_type": "markdown",
   "id": "43b3497c",
   "metadata": {},
   "source": [
    "###### Function get_num_state: \n",
    "    Each action has a corresponding identifier (integer). This function returns this identifier."
   ]
  },
  {
   "cell_type": "code",
   "execution_count": 269,
   "id": "67c4ae9b",
   "metadata": {},
   "outputs": [],
   "source": [
    "def get_num_state(state):\n",
    "    return state.y*9 + state.x"
   ]
  },
  {
   "cell_type": "code",
   "execution_count": 270,
   "id": "dac04ca6",
   "metadata": {},
   "outputs": [
    {
     "data": {
      "text/plain": [
       "62"
      ]
     },
     "execution_count": 270,
     "metadata": {},
     "output_type": "execute_result"
    }
   ],
   "source": [
    "get_num_state(State(8,6))"
   ]
  },
  {
   "cell_type": "markdown",
   "id": "2e01e78c",
   "metadata": {},
   "source": [
    "###### Function reset: \n",
    "    This function resets the game state, returning the initial state for Harry."
   ]
  },
  {
   "cell_type": "code",
   "execution_count": 271,
   "id": "086d8b1f",
   "metadata": {},
   "outputs": [],
   "source": [
    "def reset():\n",
    "    initial_state = State(1,1)\n",
    "    return initial_state,get_num_state(initial_state)"
   ]
  },
  {
   "cell_type": "markdown",
   "id": "61a745ce",
   "metadata": {},
   "source": [
    "###### Function is_goal_state: \n",
    "    Determines if the state is the goal state."
   ]
  },
  {
   "cell_type": "code",
   "execution_count": 272,
   "id": "34361c9b",
   "metadata": {},
   "outputs": [],
   "source": [
    "def is_goal_state(state):\n",
    "    return state.x == 7 and state.y == 4"
   ]
  },
  {
   "cell_type": "code",
   "execution_count": 273,
   "id": "6754c988",
   "metadata": {},
   "outputs": [
    {
     "data": {
      "text/plain": [
       "True"
      ]
     },
     "execution_count": 273,
     "metadata": {},
     "output_type": "execute_result"
    }
   ],
   "source": [
    "is_goal_state(State(7,4))"
   ]
  },
  {
   "cell_type": "markdown",
   "id": "7a62e636",
   "metadata": {},
   "source": [
    "##### Function get_reward:\n",
    "    Returns the reward for a given state:\n",
    "    If state is out of range (out of the game board boundaries), reward is -10\n",
    "    If state is goal state, reward is 126\n",
    "    If state is any other state, reward is -1"
   ]
  },
  {
   "cell_type": "code",
   "execution_count": 274,
   "id": "5a79e65d",
   "metadata": {},
   "outputs": [],
   "source": [
    "def get_reward(state):\n",
    "    if state.x not in range(9) or state.y not in range(7):\n",
    "        return -10\n",
    "    if is_goal_state(state):\n",
    "        return 126\n",
    "    return -1"
   ]
  },
  {
   "cell_type": "code",
   "execution_count": 275,
   "id": "49160cfb",
   "metadata": {},
   "outputs": [
    {
     "data": {
      "text/plain": [
       "-1"
      ]
     },
     "execution_count": 275,
     "metadata": {},
     "output_type": "execute_result"
    }
   ],
   "source": [
    "get_reward(State(1,6))"
   ]
  },
  {
   "cell_type": "markdown",
   "id": "c67b869c",
   "metadata": {},
   "source": [
    "##### Function move:\n",
    "    Performs an action in a given state, taking into account the wind probabilities for the game:\n",
    "        wind_val is a dictionary containing the columns of wind as keys and the probability tresholds as values\n",
    "    Returns the resulting state of performing the action on a given state, the reward of performing that action, and a boolean value, done, which is True if the game is over (if Harry gets out of the game board or reaches Sirius).\n",
    "    If the action leads to the agent getting out of the game board, new_state will be None, because that position does not exist and is not present on the q-table."
   ]
  },
  {
   "cell_type": "code",
   "execution_count": 276,
   "id": "c607f1a3",
   "metadata": {},
   "outputs": [],
   "source": [
    "wind_val = {3:0.1, 4:0.2, 5:0.15}"
   ]
  },
  {
   "cell_type": "code",
   "execution_count": 277,
   "id": "46863507",
   "metadata": {},
   "outputs": [],
   "source": [
    "def move(state, action):\n",
    "    new_state = action(state)\n",
    "    wind_treshold = np.random.random()\n",
    "    wind_prob = wind_val.get(new_state.x)\n",
    "    if wind_prob:\n",
    "        if wind_treshold < wind_prob:\n",
    "            new_state.y -= 1\n",
    "    reward = get_reward(new_state)\n",
    "    done = is_goal_state(new_state) or reward == -10\n",
    "    if reward == -10:\n",
    "        new_state = None\n",
    "    return new_state, reward, done"
   ]
  },
  {
   "cell_type": "markdown",
   "id": "027b99aa",
   "metadata": {},
   "source": [
    "##### Initialize some parameters\n",
    "    We will have 15000 episodes performed, with 100 steps of limit for one episode, to avoid infinite cycles.\n",
    "###### VERSION 1: \n",
    "    - learning rate = 0.2\n",
    "    - discount rate = 0.95"
   ]
  },
  {
   "cell_type": "code",
   "execution_count": 278,
   "id": "353f9f93",
   "metadata": {},
   "outputs": [],
   "source": [
    "num_episodes = 15000\n",
    "max_steps_per_episode = 100\n",
    "\n",
    "learning_rate = 0.2\n",
    "discount_rate = 0.95\n",
    "#learning_rate = 0.8\n",
    "#discount_rate = 0.99\n",
    "\n",
    "\n",
    "rewards_avg = []\n",
    "\n",
    "q_table = np.zeros((state_space_size, action_space_size))"
   ]
  },
  {
   "cell_type": "markdown",
   "id": "55f0c5e2",
   "metadata": {},
   "source": [
    "#### Q-LEARNING Algorithm:\n",
    "    This algorithm is based on the Frozen-lake lab algorithm. It performs 15000 episodes, 100 times in order to view the average of the 100 times and verify if the agent is really learning to maximize its reward.\n",
    "    We are taking into account that when the agent gets out of the game board (meaning new_state = None when performing move function), the new state will be the prior state. This is based on analizing the way the Frozen-lake lab handled the same case. If this is not done, q-table would try to find a value out of range when updating."
   ]
  },
  {
   "cell_type": "code",
   "execution_count": 281,
   "id": "86a797a3",
   "metadata": {
    "scrolled": true
   },
   "outputs": [
    {
     "name": "stdout",
     "output_type": "stream",
     "text": [
      "average  0\n",
      "average  1\n",
      "average  2\n",
      "average  3\n",
      "average  4\n",
      "average  5\n",
      "average  6\n",
      "average  7\n",
      "average  8\n",
      "average  9\n",
      "average  10\n",
      "average  11\n",
      "average  12\n",
      "average  13\n",
      "average  14\n",
      "average  15\n",
      "average  16\n",
      "average  17\n",
      "average  18\n",
      "average  19\n",
      "average  20\n",
      "average  21\n",
      "average  22\n",
      "average  23\n",
      "average  24\n",
      "average  25\n",
      "average  26\n",
      "average  27\n",
      "average  28\n",
      "average  29\n",
      "average  30\n",
      "average  31\n",
      "average  32\n",
      "average  33\n",
      "average  34\n",
      "average  35\n",
      "average  36\n",
      "average  37\n",
      "average  38\n",
      "average  39\n",
      "average  40\n",
      "average  41\n",
      "average  42\n",
      "average  43\n",
      "average  44\n",
      "average  45\n",
      "average  46\n",
      "average  47\n",
      "average  48\n",
      "average  49\n",
      "average  50\n",
      "average  51\n",
      "average  52\n",
      "average  53\n",
      "average  54\n",
      "average  55\n",
      "average  56\n",
      "average  57\n",
      "average  58\n",
      "average  59\n",
      "average  60\n",
      "average  61\n",
      "average  62\n",
      "average  63\n",
      "average  64\n",
      "average  65\n",
      "average  66\n",
      "average  67\n",
      "average  68\n",
      "average  69\n",
      "average  70\n",
      "average  71\n",
      "average  72\n",
      "average  73\n",
      "average  74\n",
      "average  75\n",
      "average  76\n",
      "average  77\n",
      "average  78\n",
      "average  79\n",
      "average  80\n",
      "average  81\n",
      "average  82\n",
      "average  83\n",
      "average  84\n",
      "average  85\n",
      "average  86\n",
      "average  87\n",
      "average  88\n",
      "average  89\n",
      "average  90\n",
      "average  91\n",
      "average  92\n",
      "average  93\n",
      "average  94\n",
      "average  95\n",
      "average  96\n",
      "average  97\n",
      "average  98\n",
      "average  99\n"
     ]
    }
   ],
   "source": [
    "# This cycle is to calculate the average reward/episodes and its only purpose is to plot the nice graph below that\n",
    "# shows how the agent learns to maximize the reward.\n",
    "rewards_avg = []\n",
    "q_table_avg = []\n",
    "for it in range(100):\n",
    "    print('average ', it)\n",
    "    rewards_all_episodes=[]\n",
    "    q_table_all_episodes = []\n",
    "    \n",
    "    # exporation-exploitation trade-off params\n",
    "    exploration_rate = 1\n",
    "    max_exploration_rate = 1\n",
    "    min_exploration_rate = 0.01\n",
    "    exploration_decay_rate = 0.005\n",
    "    \n",
    "    # init q table in zeros\n",
    "    q_table = np.zeros((state_space_size, action_space_size))\n",
    "\n",
    "    # iterate over the episodes\n",
    "    for episode in range(num_episodes):\n",
    "        state, num_state = reset()\n",
    "        done = False\n",
    "        rewards_current_episode = 0\n",
    "        \n",
    "        # iterate over the steps for an episode\n",
    "        for step in range(max_steps_per_episode):\n",
    "            # Exploration-exploitation trade-off\n",
    "            exploration_rate_threshold = np.random.random()\n",
    "            if exploration_rate_threshold <= exploration_rate:\n",
    "                action, pos_action = get_sample()\n",
    "            else:\n",
    "                q_row = q_table[num_state]\n",
    "                pos_action = np.where(q_row == max(q_row))[0][0]\n",
    "                action = action_space[pos_action]\n",
    "            # Take action\n",
    "            new_state, reward, done = move(state, action)\n",
    "            if new_state == None:\n",
    "                num_new_state = get_num_state(state)\n",
    "            else:\n",
    "                num_new_state = get_num_state(new_state)\n",
    "            # Update Q-table for Q(s,a)\n",
    "            max_value = max(q_table[num_new_state])\n",
    "            future_q=learning_rate*(reward + discount_rate*max_value)\n",
    "            q_table[num_state, pos_action] = (1-learning_rate)*q_table[num_state,pos_action] + future_q\n",
    "            \n",
    "            # transition next state\n",
    "            state = new_state\n",
    "            num_state = num_new_state\n",
    "            rewards_current_episode += reward\n",
    "\n",
    "            if done == True: \n",
    "                break\n",
    "\n",
    "        # Exploration rate decay\n",
    "        exploration_rate = min_exploration_rate + (max_exploration_rate-min_exploration_rate) * np.exp(-exploration_decay_rate*episode)\n",
    "\n",
    "        rewards_all_episodes.append(rewards_current_episode)\n",
    "        q_table_all_episodes.append(q_table)\n",
    "    rewards_avg.append(rewards_all_episodes)\n",
    "    q_table_avg.append(q_table_all_episodes)"
   ]
  },
  {
   "cell_type": "markdown",
   "id": "6f2fe100",
   "metadata": {},
   "source": [
    "#### Plotting Episodes Vs Reward\n",
    "    We can observe how the agent learns to maximize its reward:"
   ]
  },
  {
   "cell_type": "code",
   "execution_count": 282,
   "id": "8c03537d",
   "metadata": {},
   "outputs": [
    {
     "data": {
      "text/plain": [
       "[<matplotlib.lines.Line2D at 0x20de772f730>]"
      ]
     },
     "execution_count": 282,
     "metadata": {},
     "output_type": "execute_result"
    },
    {
     "data": {
      "image/png": "[encoded data removed]",
      "text/plain": [
       "<Figure size 432x288 with 1 Axes>"
      ]
     },
     "metadata": {
      "needs_background": "light"
     },
     "output_type": "display_data"
    }
   ],
   "source": [
    "x = [i for i in range(0,num_episodes)]\n",
    "y = np.mean(rewards_avg, axis=0)\n",
    "plot.xlabel('Episodes')\n",
    "plot.ylabel('Reward')\n",
    "plot.plot(x, y,'o')"
   ]
  },
  {
   "cell_type": "markdown",
   "id": "725eca85",
   "metadata": {},
   "source": [
    "#### Visualizing Optimal Policy:\n",
    "    Each number of the resulting matrix represents the best action for each corresponding state:\n",
    "        0 -> UP\n",
    "        1 -> DOWN\n",
    "        2 -> LEFT\n",
    "        3 -> RIGHT"
   ]
  },
  {
   "cell_type": "code",
   "execution_count": 285,
   "id": "e3221809",
   "metadata": {},
   "outputs": [],
   "source": [
    "#action_space = [up, down, left, right]  \n",
    "state_best_actions =[]\n",
    "arrow_matrix = []\n",
    "for i in range(q_table.shape[0]):\n",
    "    max_pos = np.argmax(q_table[i])\n",
    "    state_best_actions.append(max_pos)\n",
    "arrow_matrix = np.array(state_best_actions).reshape(7,9)"
   ]
  },
  {
   "cell_type": "markdown",
   "id": "002a2406",
   "metadata": {},
   "source": [
    "#### Visualizing with arrows:\n",
    "    To have a better view, we graph with arrows:"
   ]
  },
  {
   "cell_type": "code",
   "execution_count": 286,
   "id": "9507799c",
   "metadata": {},
   "outputs": [
    {
     "data": {
      "image/png": "[encoded data removed]",
      "text/plain": [
       "<Figure size 432x288 with 1 Axes>"
      ]
     },
     "metadata": {
      "needs_background": "light"
     },
     "output_type": "display_data"
    }
   ],
   "source": [
    "import matplotlib.pyplot as plt\n",
    "best_actions_matrix = np.array(state_best_actions).reshape(7,9)\n",
    "w = 0.3\n",
    "arrow_dict = {0:lambda i,j:plt.arrow(x=i, y=j-0.25, dx=0, dy=w, width=.05)  ,1:lambda i,j:plt.arrow(x=i, y=j+0.25, dx=0, dy=-w, width=.05),2:lambda i,j:plt.arrow(x=i+0.2, y=j, dx=-w, dy=0, width=.05),3:lambda i,j:plt.arrow(x=i-0.2, y=j, dx=w, dy=0, width=.05)}\n",
    "i,j=0,0\n",
    "arrow_matrix=np.transpose(np.array(arrow_matrix).reshape(7,9))\n",
    "for j in range(len(arrow_matrix)):\n",
    "    for i in range(len(arrow_matrix[j])):\n",
    "#         print(i,j)\n",
    "        arrow_dict[best_actions_matrix[i,j]](j+0.5,(6-i)+0.5)\n",
    "start = [1,1]\n",
    "goal = [7,4]\n",
    "plt.scatter(start[0]+0.5,6-start[1]+0.5, color=\"green\", linewidths=20)\n",
    "plt.scatter(goal[0]+0.5,6-goal[1]+0.5, color = \"blue\",linewidths=20)\n",
    "\n",
    "plt.xticks(np.arange(9,-1, -1))\n",
    "plt.yticks(np.arange(7,-1, -1),labels= [\"0\",\"1\",\"2\",\"3\",\"4\",\"5\",\"6\",\"7\"])\n",
    "plt.grid()\n",
    "# display plot \n",
    "plt.show()"
   ]
  },
  {
   "cell_type": "markdown",
   "id": "8239880b",
   "metadata": {},
   "source": [
    "    As we can see above, as there are winds, meaning there is high probability of getting out of the game board if the agent is near the top border(row 0), we see that the arrow of the 3 columns (3,4,5) in row 0 and 1 are downards. This guarantees that the agent does not get out of the game board, and it leads to the goal state."
   ]
  },
  {
   "cell_type": "code",
   "execution_count": 288,
   "id": "a640d05c",
   "metadata": {},
   "outputs": [
    {
     "name": "stdout",
     "output_type": "stream",
     "text": [
      "\n",
      "\n",
      "********Q-table********\n",
      "\n",
      "[[-7.35600717e+00 -3.00502700e+00 -8.75963162e+00  1.71729575e+00]\n",
      " [-9.63688856e+00  1.12697562e+01 -2.37257668e+00  6.89324121e+01]\n",
      " [ 1.29943832e+01  7.41629779e+01  4.85765556e+00  1.88758280e+01]\n",
      " [-1.78879237e+00  7.84139074e+01  2.14577908e+01  3.29249770e+01]\n",
      " [-6.07680819e+00  8.28442101e+01  1.01716231e+01 -6.83120000e-01]\n",
      " [-4.94840000e+00  8.18891877e+01 -5.93716000e-01 -7.71120000e-01]\n",
      " [-3.60000000e+00 -6.59760000e-01 -5.25056800e-01 -4.88000000e-01]\n",
      " [-2.00000000e+00 -2.00000000e-01 -2.50996000e-01 -2.00000000e-01]\n",
      " [-2.00000000e+00 -2.00000000e-01  0.00000000e+00  0.00000000e+00]\n",
      " [-2.88233834e+00  1.82549767e+01 -1.06823458e+01  6.96917878e+01]\n",
      " [ 6.37926213e+01  7.38903135e+01  6.51141291e+01  7.39367889e+01]\n",
      " [ 6.34549603e+01  6.02895815e+01  6.15085292e+01  7.87780986e+01]\n",
      " [ 7.09907867e+01  8.38600652e+01  7.30438418e+01  8.12166313e+01]\n",
      " [ 4.70466059e+01  9.18059838e+01  7.08945331e+01  6.55576236e+01]\n",
      " [ 5.20505268e+01  9.68353863e+01  5.83117962e+01  3.63178741e+01]\n",
      " [-6.28400000e-01  1.03927465e+02 -5.26000000e-01 -5.90400000e-01]\n",
      " [-2.00000000e-01 -4.88000000e-01 -4.88000000e-01 -2.00000000e-01]\n",
      " [-2.00000000e-01 -2.00000000e-01  0.00000000e+00 -2.00000000e+00]\n",
      " [-9.03355123e-01  8.81285205e+00  2.48067994e+01  7.44654148e+01]\n",
      " [ 6.97608631e+01  6.94229315e+01  6.94342170e+01  7.84274313e+01]\n",
      " [ 7.28695174e+01  7.38125341e+01  7.39566996e+01  8.37616422e+01]\n",
      " [ 7.78697052e+01  8.70566935e+01  7.94748250e+01  9.12255451e+01]\n",
      " [ 8.45112426e+01  9.55656926e+01  8.45113809e+01  9.77245518e+01]\n",
      " [ 8.87211254e+01  1.04593078e+02  8.72942473e+01  1.05176750e+02]\n",
      " [ 9.00798810e+01  1.11765000e+02  9.65803090e+01  8.32707287e+01]\n",
      " [-4.88000000e-01  1.12156709e+02 -3.98000000e-01 -2.00000000e-01]\n",
      " [-2.00000000e-01  0.00000000e+00 -2.00000000e-01  0.00000000e+00]\n",
      " [ 4.56710788e+01 -1.85057185e+00 -1.01339599e+01 -2.72942447e-01]\n",
      " [ 7.43884821e+01  9.54676387e-01  1.02148634e+01  3.38157709e+01]\n",
      " [ 7.92086268e+01  1.40089398e+01  1.31006911e+01  2.39601503e+01]\n",
      " [ 8.41972706e+01  9.42852149e+01  7.34684560e+01  9.32337192e+01]\n",
      " [ 9.13981545e+01  9.97918303e+01  9.10800207e+01  1.05115272e+02]\n",
      " [ 9.84743035e+01  1.10418030e+02  9.74420655e+01  1.11765000e+02]\n",
      " [ 1.05173224e+02  1.18700000e+02  1.03723460e+02  1.18691950e+02]\n",
      " [ 1.68101468e+01  1.25999937e+02  4.91809338e+01  1.08109600e+00]\n",
      " [ 0.00000000e+00  0.00000000e+00  2.11346726e+01 -1.12828000e+00]\n",
      " [-1.30824427e+00 -1.41170818e+00 -9.20615988e+00 -1.34891336e+00]\n",
      " [-1.31147056e+00 -1.34390749e+00 -1.30516393e+00  1.68348798e+01]\n",
      " [-1.40917730e+00 -9.39852964e-01 -4.47818942e-01  6.03482899e+01]\n",
      " [ 8.18134814e-02  5.22740300e+00 -6.11120000e-01  1.00795936e+02]\n",
      " [ 6.21974918e+01  7.98609300e+01  7.68882715e+01  1.09403764e+02]\n",
      " [ 1.00996578e+02  1.02100615e+02  9.69681590e+01  1.18700000e+02]\n",
      " [ 1.11764971e+02  1.11764709e+02  1.11152433e+02  1.26000000e+02]\n",
      " [ 0.00000000e+00  0.00000000e+00  0.00000000e+00  0.00000000e+00]\n",
      " [ 0.00000000e+00  0.00000000e+00  0.00000000e+00  0.00000000e+00]\n",
      " [-1.08679797e+00 -9.80573600e-01 -2.00000000e+00 -9.55693106e-01]\n",
      " [-1.13239927e+00 -8.19760000e-01 -9.39772800e-01 -4.63591825e-01]\n",
      " [-8.94774307e-01 -7.10320000e-01 -9.97765357e-01  1.45567714e+00]\n",
      " [-5.61916800e-01 -3.60000000e-01 -5.20934297e-01  4.32184469e+01]\n",
      " [ 3.16026044e+01  7.83508486e+00  8.10592049e+00  9.76074566e+01]\n",
      " [ 1.10910448e+02  2.06430293e+01  4.29843891e+01  3.78392631e+01]\n",
      " [ 1.18699980e+02 -5.90400000e-01  4.74387649e+01  2.10513600e+01]\n",
      " [ 7.43904000e+01  0.00000000e+00  0.00000000e+00 -2.00000000e-01]\n",
      " [ 0.00000000e+00  0.00000000e+00  0.00000000e+00 -2.00000000e+00]\n",
      " [-4.83120000e-01 -2.00000000e+00 -6.05051280e+00 -5.87940000e-01]\n",
      " [-6.28400000e-01 -3.63800000e+00 -5.38996000e-01 -6.75987672e-01]\n",
      " [-2.62694302e-01 -2.00000000e+00 -7.10320000e-01 -3.60000000e-01]\n",
      " [-3.60000000e-01 -2.00000000e+00 -2.00000000e-01 -3.40764113e-02]\n",
      " [ 1.87598167e+01  0.00000000e+00 -2.00000000e-01  0.00000000e+00]\n",
      " [-3.60000000e-01  0.00000000e+00 -3.40764113e-02  0.00000000e+00]\n",
      " [-2.00000000e-01 -2.00000000e+00 -2.00000000e-01 -2.00000000e-01]\n",
      " [-2.00000000e-01  0.00000000e+00  0.00000000e+00  0.00000000e+00]\n",
      " [ 0.00000000e+00  0.00000000e+00  0.00000000e+00  0.00000000e+00]]\n"
     ]
    }
   ],
   "source": [
    "# Print updated Q-table\n",
    "print(\"\\n\\n********Q-table********\\n\")\n",
    "print(q_table)"
   ]
  },
  {
   "cell_type": "markdown",
   "id": "29125e6a",
   "metadata": {},
   "source": [
    "# EXPERIMENTS:"
   ]
  },
  {
   "cell_type": "code",
   "execution_count": 253,
   "id": "b05b63e2",
   "metadata": {},
   "outputs": [],
   "source": [
    "def get_reward(state):\n",
    "    if state.x not in range(9) or state.y not in range(7):\n",
    "        return 0\n",
    "    if is_goal_state(state):\n",
    "        return 1\n",
    "    return 0"
   ]
  },
  {
   "cell_type": "markdown",
   "id": "3eb00658",
   "metadata": {},
   "source": [
    "## WITHOUT WIND"
   ]
  },
  {
   "cell_type": "code",
   "execution_count": 254,
   "id": "5929a274",
   "metadata": {},
   "outputs": [],
   "source": [
    "def move_without_wind(state, action):\n",
    "    #print(action)\n",
    "    new_state = action(state)\n",
    "    #print(new_state.x)\n",
    "    reward = get_reward(new_state)\n",
    "    #print(state.x, state.y , \"r = \",reward)\n",
    "    done = is_goal_state(new_state) or reward == -10\n",
    "    if reward == -10:\n",
    "        new_state = None\n",
    "    return new_state, reward, done"
   ]
  },
  {
   "cell_type": "code",
   "execution_count": 255,
   "id": "2a2093ed",
   "metadata": {},
   "outputs": [
    {
     "name": "stdout",
     "output_type": "stream",
     "text": [
      "pos:  0 4 | reward:  0 | done =  False\n"
     ]
    }
   ],
   "source": [
    "s,r,d = move_without_wind(State(0,3), down)\n",
    "print(\"pos: \",s.x,s.y,\"| reward: \", r,\"| done = \",d)"
   ]
  },
  {
   "cell_type": "code",
   "execution_count": 256,
   "id": "2cd370f7",
   "metadata": {},
   "outputs": [
    {
     "data": {
      "text/plain": [
       "[<matplotlib.lines.Line2D at 0x20de7758b50>]"
      ]
     },
     "execution_count": 256,
     "metadata": {},
     "output_type": "execute_result"
    },
    {
     "data": {
      "image/png": "[encoded data removed]",
      "text/plain": [
       "<Figure size 432x288 with 1 Axes>"
      ]
     },
     "metadata": {
      "needs_background": "light"
     },
     "output_type": "display_data"
    }
   ],
   "source": [
    "x = [i for i in range(0,num_episodes)]\n",
    "y = np.mean(rewards_avg, axis=0)\n",
    "plot.xlabel('Episodes')\n",
    "plot.ylabel('Reward')\n",
    "plot.plot(x, y,'o')"
   ]
  },
  {
   "cell_type": "code",
   "execution_count": 257,
   "id": "1678e7fe",
   "metadata": {},
   "outputs": [
    {
     "name": "stdout",
     "output_type": "stream",
     "text": [
      "117.76\n",
      "9836\n"
     ]
    }
   ],
   "source": [
    "print(max(np.mean(rewards_avg, axis=0)))\n",
    "pos_max_reward = np.argmax(np.mean(rewards_avg, axis=0))\n",
    "print(pos_max_reward)"
   ]
  },
  {
   "cell_type": "code",
   "execution_count": 258,
   "id": "1d00f7aa",
   "metadata": {},
   "outputs": [
    {
     "name": "stdout",
     "output_type": "stream",
     "text": [
      "-19\n"
     ]
    }
   ],
   "source": [
    "#504 15000\n",
    "print(rewards_avg[0][0])"
   ]
  },
  {
   "cell_type": "code",
   "execution_count": 259,
   "id": "2cd4b8ed",
   "metadata": {},
   "outputs": [
    {
     "name": "stdout",
     "output_type": "stream",
     "text": [
      "117.76\n"
     ]
    }
   ],
   "source": [
    "print(np.mean(rewards_avg, axis=0)[pos_max_reward])"
   ]
  },
  {
   "cell_type": "code",
   "execution_count": 260,
   "id": "065b49a4",
   "metadata": {},
   "outputs": [
    {
     "name": "stdout",
     "output_type": "stream",
     "text": [
      "50\n",
      "50\n"
     ]
    }
   ],
   "source": [
    "print(len(rewards_avg))\n",
    "print(len(q_table_avg))"
   ]
  },
  {
   "cell_type": "code",
   "execution_count": 261,
   "id": "e14d3966",
   "metadata": {},
   "outputs": [
    {
     "name": "stdout",
     "output_type": "stream",
     "text": [
      "15000\n",
      "15000\n"
     ]
    }
   ],
   "source": [
    "print(len(rewards_avg[0]))\n",
    "print(len(q_table_avg[0]))"
   ]
  },
  {
   "cell_type": "code",
   "execution_count": 262,
   "id": "ba9e1560",
   "metadata": {},
   "outputs": [
    {
     "name": "stdout",
     "output_type": "stream",
     "text": [
      "750000\n"
     ]
    }
   ],
   "source": [
    "r = np.array(rewards_avg).flatten()\n",
    "print(len(r))"
   ]
  },
  {
   "cell_type": "code",
   "execution_count": 263,
   "id": "77822af1",
   "metadata": {},
   "outputs": [
    {
     "name": "stdout",
     "output_type": "stream",
     "text": [
      "156\n"
     ]
    }
   ],
   "source": [
    "print(np.argmax(r))"
   ]
  },
  {
   "cell_type": "code",
   "execution_count": 266,
   "id": "276741b2",
   "metadata": {},
   "outputs": [
    {
     "name": "stdout",
     "output_type": "stream",
     "text": [
      "224\n"
     ]
    }
   ],
   "source": [
    "print(rewards_avg[0][155])"
   ]
  },
  {
   "cell_type": "code",
   "execution_count": 103,
   "id": "54463c3b",
   "metadata": {},
   "outputs": [
    {
     "data": {
      "text/plain": [
       "array([[0, 0, 0, 0, 0, 0, 0, 0, 0],\n",
       "       [2, 0, 0, 0, 0, 3, 2, 0, 1],\n",
       "       [2, 2, 1, 1, 1, 0, 0, 0, 1],\n",
       "       [2, 2, 1, 1, 1, 1, 2, 0, 0],\n",
       "       [2, 3, 3, 1, 1, 2, 0, 0, 0],\n",
       "       [2, 0, 1, 2, 3, 3, 0, 0, 0],\n",
       "       [0, 1, 1, 1, 0, 0, 0, 0, 0]], dtype=int64)"
      ]
     },
     "execution_count": 103,
     "metadata": {},
     "output_type": "execute_result"
    }
   ],
   "source": [
    "bq = q_table_avg[0][pos_max_reward]#.round(1)\n",
    "state_best_actions =[]\n",
    "for i in range(bq.shape[0]):\n",
    "    state_best_actions.append(np.where(bq[i] == max(bq[i]))[0][0])\n",
    "    #action_space = [up, down, left, right]\n",
    "np.array(state_best_actions).reshape(7,9)"
   ]
  },
  {
   "cell_type": "code",
   "execution_count": 104,
   "id": "46a06ea6",
   "metadata": {},
   "outputs": [
    {
     "name": "stdout",
     "output_type": "stream",
     "text": [
      "[[ 0.         -0.91410065  0.         -0.5904    ]\n",
      " [ 0.         -1.94999966 -0.99999902 -0.99999808]\n",
      " [ 0.         -1.70222964 -0.95601953 -0.93128052]\n",
      " [ 0.         -0.36959891 -0.488      -0.36      ]\n",
      " [ 0.         -0.2684     -0.2        -0.36      ]\n",
      " [ 0.         -0.5904      0.         -0.2       ]\n",
      " [ 0.          0.         -0.2         0.        ]\n",
      " [ 0.          0.          0.          0.        ]\n",
      " [ 0.          0.          0.          0.        ]\n",
      " [-0.99900965 -0.977482    0.         -1.90292378]\n",
      " [-1.         -1.94999639 -1.         -1.95      ]\n",
      " [-1.         -1.61858666 -1.89218802 -1.52353445]\n",
      " [-0.91410065 -0.9573896  -0.97016711 -0.97630144]\n",
      " [-0.488      -0.61112    -0.83485063 -0.8304608 ]\n",
      " [-0.488      -0.53322    -0.599796   -0.36      ]\n",
      " [-0.2        -0.2         0.         -0.2       ]\n",
      " [ 0.          0.          0.         -0.2       ]\n",
      " [-0.2         0.          0.          0.        ]\n",
      " [-0.737856   -0.36        0.         -1.51264931]\n",
      " [-1.79265202 -1.47477788 -0.99999974 -1.74281461]\n",
      " [-1.36499222 -1.26300984 -1.29265161 -1.34915389]\n",
      " [-1.0540847  -0.92785068 -1.00681512 -0.96458227]\n",
      " [-0.84408    -0.538996   -0.9713128  -0.6588    ]\n",
      " [-0.398      -0.526      -0.4588     -0.5904    ]\n",
      " [-0.2        -0.36       -0.4284     -0.2       ]\n",
      " [ 0.          0.          0.         -0.2       ]\n",
      " [-0.2         0.          0.          0.        ]\n",
      " [-0.36       -0.36        0.         -0.82698   ]\n",
      " [-1.04818144 -0.94979984 -0.91410065 -0.9272126 ]\n",
      " [-1.09078495 -0.820672   -1.14961743 -0.99144079]\n",
      " [-0.7726504  -0.74072    -0.99553052 -0.7884328 ]\n",
      " [-0.71352    -0.36       -0.5554568  -0.6588    ]\n",
      " [-0.398      -0.36       -0.410996   -0.36      ]\n",
      " [-0.2        -0.36        0.         -0.2       ]\n",
      " [ 0.          0.          0.          0.        ]\n",
      " [ 0.          0.          0.          0.        ]\n",
      " [-0.2        -0.5904      0.          0.        ]\n",
      " [-0.648436   -0.58794    -0.5904     -0.488     ]\n",
      " [-0.60658204 -0.5904     -0.58072    -0.4284    ]\n",
      " [-0.79799324 -0.36       -0.4284     -0.36      ]\n",
      " [-0.410996   -0.2        -0.238      -0.2       ]\n",
      " [-0.238      -0.488       0.         -0.2       ]\n",
      " [ 0.          0.         -0.2         0.        ]\n",
      " [ 0.          0.          0.          0.        ]\n",
      " [ 0.          0.          0.          0.        ]\n",
      " [-0.36       -0.2         0.         -0.2       ]\n",
      " [-0.36       -0.36       -0.36       -0.4284    ]\n",
      " [-0.4588     -0.36       -0.398      -0.398     ]\n",
      " [-0.4284     -0.36       -0.238      -0.36      ]\n",
      " [-0.2        -0.2        -0.36        0.        ]\n",
      " [-0.2        -0.2        -0.2         0.        ]\n",
      " [ 0.          0.          0.          0.        ]\n",
      " [ 0.          0.          0.          0.        ]\n",
      " [ 0.          0.          0.          0.        ]\n",
      " [ 0.          0.          0.          0.        ]\n",
      " [-0.36        0.          0.          0.        ]\n",
      " [-0.238       0.         -0.2         0.        ]\n",
      " [-0.2         0.          0.          0.        ]\n",
      " [ 0.          0.         -0.2         0.        ]\n",
      " [ 0.          0.          0.          0.        ]\n",
      " [ 0.          0.          0.          0.        ]\n",
      " [ 0.          0.          0.          0.        ]\n",
      " [ 0.          0.          0.          0.        ]]\n"
     ]
    }
   ],
   "source": [
    "print(bq)#.round(1))"
   ]
  },
  {
   "cell_type": "code",
   "execution_count": 226,
   "id": "16b34bc5",
   "metadata": {},
   "outputs": [
    {
     "name": "stdout",
     "output_type": "stream",
     "text": [
      "(63, 4)\n"
     ]
    }
   ],
   "source": [
    "best_q_table = np.mean(q_table_avg, axis=0)[pos_max_reward]\n",
    "print(best_q_table.shape)"
   ]
  },
  {
   "cell_type": "code",
   "execution_count": 227,
   "id": "f4e47ac4",
   "metadata": {},
   "outputs": [],
   "source": [
    "state_best_actions =[]\n",
    "for i in range(best_q_table.shape[0]):\n",
    "    state_best_actions.append(np.argmax(best_q_table[i]))\n",
    "    #action_space = [up, down, left, right]"
   ]
  },
  {
   "cell_type": "code",
   "execution_count": 228,
   "id": "6c320021",
   "metadata": {},
   "outputs": [
    {
     "name": "stdout",
     "output_type": "stream",
     "text": [
      "[1, 1, 1, 1, 1, 2, 1, 1, 1, 1, 3, 3, 3, 1, 1, 2, 1, 2, 3, 3, 3, 3, 3, 3, 1, 1, 1, 3, 3, 3, 3, 3, 3, 1, 0, 2, 0, 0, 3, 3, 3, 3, 0, 0, 0, 0, 0, 0, 0, 3, 0, 0, 0, 2, 3, 3, 0, 0, 0, 0, 0, 0, 0]\n"
     ]
    }
   ],
   "source": [
    "print(state_best_actions)"
   ]
  },
  {
   "cell_type": "code",
   "execution_count": 229,
   "id": "a14710f3",
   "metadata": {},
   "outputs": [
    {
     "data": {
      "text/plain": [
       "array([[1, 1, 1, 1, 1, 2, 1, 1, 1],\n",
       "       [1, 3, 3, 3, 1, 1, 2, 1, 2],\n",
       "       [3, 3, 3, 3, 3, 3, 1, 1, 1],\n",
       "       [3, 3, 3, 3, 3, 3, 1, 0, 2],\n",
       "       [0, 0, 3, 3, 3, 3, 0, 0, 0],\n",
       "       [0, 0, 0, 0, 3, 0, 0, 0, 2],\n",
       "       [3, 3, 0, 0, 0, 0, 0, 0, 0]], dtype=int64)"
      ]
     },
     "execution_count": 229,
     "metadata": {},
     "output_type": "execute_result"
    }
   ],
   "source": [
    "#action_space = [up, down, left, right]\n",
    "len(state_best_actions)\n",
    "np.array(state_best_actions).reshape(7,9)"
   ]
  },
  {
   "cell_type": "code",
   "execution_count": 261,
   "id": "e14b88bc",
   "metadata": {},
   "outputs": [
    {
     "name": "stdout",
     "output_type": "stream",
     "text": [
      "\n",
      "\n",
      "********Q-table********\n",
      "\n",
      "[[-1.02253891e+00  1.66703626e+02  3.44478585e+01  1.49837130e+00]\n",
      " [ 4.34427568e+01  9.32790815e+00  4.01116783e+01  2.05501282e+02]\n",
      " [ 8.15863731e+00  5.53237626e+01  1.01592120e+01  2.57232009e+02]\n",
      " [ 1.95115801e+02  2.69342472e+02  1.65598959e+02  1.89159563e+02]\n",
      " [ 2.07218916e+02  2.91830978e+02  1.85446549e+02  2.07085532e+02]\n",
      " [ 4.00301067e+01  5.13109759e+01  7.54955297e+00  2.89224313e+02]\n",
      " [ 1.38867342e+02  1.86608968e+02  2.01833873e+02  2.64102273e+02]\n",
      " [ 2.24044466e+02  2.23918952e+02  2.23486084e+02  2.24359106e+02]\n",
      " [ 1.80856508e+02  2.43580340e+02  1.08719714e+02  2.06707165e+02]\n",
      " [ 2.51023944e+00  4.43854744e+01 -1.21490059e+00  2.14496469e+02]\n",
      " [ 2.43986132e+02  2.42105168e+02  2.38805685e+02  2.45809843e+02]\n",
      " [ 2.63296850e+02  2.63853416e+02  2.29680127e+02  2.62556819e+02]\n",
      " [ 2.63430587e+02  2.67021617e+02  2.64571160e+02  2.62541139e+02]\n",
      " [ 2.95992206e+02  2.96871357e+02  2.92798380e+02  2.96542825e+02]\n",
      " [ 2.36053470e+02  3.00517201e+02  2.18372933e+02  2.19020939e+02]\n",
      " [ 2.79722789e+02  2.99412792e+02  2.71139681e+02  2.97417238e+02]\n",
      " [ 1.49512709e+02  2.88226876e+02  2.07910964e+02  2.24857189e+02]\n",
      " [ 1.25207308e+02  1.29257832e+02  3.09968316e+02  1.80112868e+02]\n",
      " [ 1.69985463e+02  3.57938976e+01  6.83327833e+00  9.14594633e+00]\n",
      " [ 4.68498976e+01  6.56140116e+01  1.02569490e+02  1.90541240e+02]\n",
      " [ 1.73878335e+02  1.87454391e+02  1.66459728e+02  1.28033909e+02]\n",
      " [ 2.36409451e+02  2.32408029e+02  2.19073680e+02  2.07583542e+02]\n",
      " [ 3.17020469e+02  2.95828232e+02  3.04097565e+02  3.57471270e+02]\n",
      " [ 3.16003909e+02  3.59766189e+02  3.00189148e+02  3.12095393e+02]\n",
      " [ 3.05159473e+02  3.02057624e+02  3.03772064e+02  3.22640027e+02]\n",
      " [ 2.38063648e+02  2.39130715e+02  2.38602465e+02  3.04236374e+02]\n",
      " [ 1.21967411e+02  1.78807224e+02  3.44799275e+02  1.15740568e+01]\n",
      " [ 2.52204856e+00  8.65683252e-01 -3.38796912e+00  4.85665768e+01]\n",
      " [ 2.22899912e+01  1.79855731e+02  9.28005207e+00  1.43936691e+01]\n",
      " [ 2.79509236e+01  1.95544803e+02  1.70712632e+02  1.47472360e+02]\n",
      " [ 3.61323082e+02  2.52427422e+02  2.27719488e+02  2.00494931e+02]\n",
      " [ 2.59072650e+02  3.97909085e+02  2.71875283e+02  2.33396065e+02]\n",
      " [ 2.45060820e+02  2.47212602e+02  2.46523076e+02  4.55043768e+02]\n",
      " [ 2.59070216e+02  3.35336443e+02  2.94025969e+02  3.68375014e+02]\n",
      " [ 3.84591095e+02  3.03981143e+02  2.82331154e+02  2.81964165e+02]\n",
      " [ 2.87012377e+02  4.11467809e+02  1.50905215e+02  2.88159623e+02]\n",
      " [ 0.00000000e+00  1.23872712e+02  8.80847683e-01  4.47342088e+00]\n",
      " [ 5.88754788e+00  1.60429886e+01  1.03641919e+01  1.78783523e+02]\n",
      " [ 7.62585806e+01  1.64924363e+02  1.82641639e+02  2.23013283e+02]\n",
      " [ 2.04100203e+02  2.20150532e+02  2.01764444e+02  3.26389332e+02]\n",
      " [ 2.40938720e+02  3.32603169e+02  2.35355467e+02  2.41894302e+02]\n",
      " [ 2.41021097e+02  2.53608990e+02  2.57061268e+02  4.79119885e+02]\n",
      " [ 7.65068785e+01  1.30014254e+02  3.71800941e+02  8.51983905e+01]\n",
      " [ 0.00000000e+00  0.00000000e+00  0.00000000e+00  0.00000000e+00]\n",
      " [ 0.00000000e+00  0.00000000e+00  2.92605993e+02  0.00000000e+00]\n",
      " [ 5.69455648e+00 -4.55904160e-01 -1.34942201e+00  0.00000000e+00]\n",
      " [ 2.92445989e+00  1.03088590e+01  9.57724837e+00  1.84319244e+02]\n",
      " [ 2.57636016e+02  1.44186767e+01  1.27536514e+02  1.59197789e+02]\n",
      " [ 2.93263996e+02  1.04448901e+02  1.29244985e+02  1.66961986e+02]\n",
      " [ 2.49666226e+02  2.48823275e+02  2.36700573e+02  2.86214587e+02]\n",
      " [ 2.82656494e+02  2.97447210e+02  2.17649645e+02  3.68484139e+02]\n",
      " [ 4.04365438e+02  1.42936250e+02  1.81508867e+02  2.03478844e+02]\n",
      " [ 3.38795063e+02  7.62004650e+00  9.49406765e+00  4.63668542e+00]\n",
      " [ 5.34912876e+01  1.53286924e+00  3.12121194e+02 -1.95314756e+00]\n",
      " [ 0.00000000e+00  0.00000000e+00  7.90445653e-01  2.83492121e-01]\n",
      " [ 2.79445762e+00 -1.38785994e+00  6.36271636e-01  9.33552002e-01]\n",
      " [ 2.96269184e+00 -3.98764531e+00  2.43101325e+00  8.75387657e+01]\n",
      " [ 5.54051111e+00  8.98372976e+01  2.18570188e+02  2.07923536e+00]\n",
      " [ 2.16078420e+02  3.11141946e+00  3.50843268e+01  9.91425525e+00]\n",
      " [ 7.09850831e+01  3.46483867e+01  2.70264654e+02  3.29971803e+01]\n",
      " [ 4.25250404e-01  3.06782852e+01  1.80293223e+01  2.65006064e+02]\n",
      " [ 1.83497501e+02  3.37697502e-01  0.00000000e+00 -1.05619805e+00]\n",
      " [ 1.42163570e+01  0.00000000e+00  0.00000000e+00  0.00000000e+00]]\n"
     ]
    }
   ],
   "source": [
    "# Print updated Q-table\n",
    "print(\"\\n\\n********Q-table********\\n\")\n",
    "print(q_table)"
   ]
  },
  {
   "cell_type": "code",
   "execution_count": 302,
   "id": "1caf9ec7",
   "metadata": {},
   "outputs": [
    {
     "name": "stdout",
     "output_type": "stream",
     "text": [
      "114.5\n",
      "3428\n",
      "114.5\n",
      "(63, 4)\n"
     ]
    },
    {
     "data": {
      "text/plain": [
       "array([[3, 1, 3, 3, 2, 3, 3, 2, 2],\n",
       "       [1, 1, 1, 1, 1, 0, 1, 2, 1],\n",
       "       [0, 3, 3, 1, 1, 2, 1, 2, 1],\n",
       "       [3, 3, 3, 1, 1, 1, 1, 0, 2],\n",
       "       [3, 0, 0, 1, 3, 1, 3, 0, 0],\n",
       "       [1, 0, 2, 3, 3, 3, 0, 0, 0],\n",
       "       [1, 0, 3, 1, 3, 0, 2, 0, 0]], dtype=int64)"
      ]
     },
     "execution_count": 302,
     "metadata": {},
     "output_type": "execute_result"
    }
   ],
   "source": [
    "print(max(np.mean(rewards_avg, axis=0)))\n",
    "pos_max_reward = np.argmax(np.mean(rewards_avg, axis=0))\n",
    "print(pos_max_reward)\n",
    "print(np.mean(rewards_avg, axis=0)[pos_max_reward])\n",
    "best_q_table = q_table_all_episodes[pos_max_reward]\n",
    "print(q_table.shape)\n",
    "state_best_actions =[]\n",
    "for i in range(q_table.shape[0]):\n",
    "    state_best_actions.append(np.argmax(q_table[i]))\n",
    "    #action_space = [up, down, left, right]\n",
    "len(state_best_actions)\n",
    "np.array(state_best_actions).reshape(7,9)"
   ]
  },
  {
   "cell_type": "code",
   "execution_count": null,
   "id": "20112d55",
   "metadata": {},
   "outputs": [],
   "source": []
  }
 ],
 "metadata": {
  "kernelspec": {
   "display_name": "Python 3 (ipykernel)",
   "language": "python",
   "name": "python3"
  },
  "language_info": {
   "codemirror_mode": {
    "name": "ipython",
    "version": 3
   },
   "file_extension": ".py",
   "mimetype": "text/x-python",
   "name": "python",
   "nbconvert_exporter": "python",
   "pygments_lexer": "ipython3",
   "version": "3.9.7"
  }
 },
 "nbformat": 4,
 "nbformat_minor": 5
}
